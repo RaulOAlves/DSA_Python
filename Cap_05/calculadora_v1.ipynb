{
 "cells": [
  {
   "cell_type": "code",
   "execution_count": 1,
   "id": "78c172ff",
   "metadata": {},
   "outputs": [
    {
     "name": "stdout",
     "output_type": "stream",
     "text": [
      "\n",
      "******************* Calculadora em Python *******************\n",
      "\n",
      " Selecione o número da operação desejada:\n",
      "\n",
      "1- Soma\n",
      "2- Subtração\n",
      "3- Multiplicação\n",
      "4- Divisão\n",
      "\n"
     ]
    }
   ],
   "source": [
    "print('\\n******************* Calculadora em Python *******************\\n\\n Selecione o número da operação desejada:\\n\\n1- Soma\\n2- Subtração\\n3- Multiplicação\\n4- Divisão\\n')"
   ]
  },
  {
   "cell_type": "code",
   "execution_count": 7,
   "id": "45e10039",
   "metadata": {},
   "outputs": [
    {
     "name": "stdout",
     "output_type": "stream",
     "text": [
      "Digite sua opção (1/2/3/4): 5\n"
     ]
    }
   ],
   "source": [
    "operacao = int(input('Digite sua opção (1/2/3/4): '))"
   ]
  },
  {
   "cell_type": "code",
   "execution_count": null,
   "id": "72046375",
   "metadata": {},
   "outputs": [],
   "source": [
    "x = int(input('Digite o primeiro número: '))"
   ]
  },
  {
   "cell_type": "code",
   "execution_count": 4,
   "id": "3d035448",
   "metadata": {},
   "outputs": [
    {
     "name": "stdout",
     "output_type": "stream",
     "text": [
      "Digite o segundo número: 43\n"
     ]
    }
   ],
   "source": [
    "y = int(input('Digite o segundo número: '))"
   ]
  },
  {
   "cell_type": "code",
   "execution_count": 5,
   "id": "e5978574",
   "metadata": {},
   "outputs": [
    {
     "name": "stdout",
     "output_type": "stream",
     "text": [
      "56 * 43 = 2408\n"
     ]
    }
   ],
   "source": [
    "if operacao == 1:\n",
    "    z = x + y\n",
    "    print ('{} + {} = {}'.format(x,y,z))\n",
    "elif operacao == 2:\n",
    "    z = x - y\n",
    "    print ('{} - {} = {}'.format(x,y,z))\n",
    "elif operacao == 3:\n",
    "    z = x * y\n",
    "    print ('{} * {} = {}'.format(x,y,z))\n",
    "elif operacao == 4:\n",
    "    z = x / y\n",
    "    print ('{} / {} = {}'.format(x,y,z))\n",
    "else:\n",
    "    print('Operação inválida')\n"
   ]
  },
  {
   "cell_type": "code",
   "execution_count": null,
   "id": "7cb467cd",
   "metadata": {},
   "outputs": [],
   "source": []
  },
  {
   "cell_type": "code",
   "execution_count": null,
   "id": "f12a5074",
   "metadata": {},
   "outputs": [],
   "source": []
  },
  {
   "cell_type": "code",
   "execution_count": null,
   "id": "9f292cb4",
   "metadata": {},
   "outputs": [],
   "source": []
  }
 ],
 "metadata": {
  "kernelspec": {
   "display_name": "Python 3 (ipykernel)",
   "language": "python",
   "name": "python3"
  },
  "language_info": {
   "codemirror_mode": {
    "name": "ipython",
    "version": 3
   },
   "file_extension": ".py",
   "mimetype": "text/x-python",
   "name": "python",
   "nbconvert_exporter": "python",
   "pygments_lexer": "ipython3",
   "version": "3.9.7"
  }
 },
 "nbformat": 4,
 "nbformat_minor": 5
}

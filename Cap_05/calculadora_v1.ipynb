{
 "cells": [
  {
   "cell_type": "code",
   "execution_count": 1,
   "id": "7cfac2da",
   "metadata": {},
   "outputs": [
    {
     "name": "stdout",
     "output_type": "stream",
     "text": [
      "\n",
      "******************* Calculadora em Python *******************\n",
      "\n",
      " Selecione o número da operação desejada:\n",
      "\n",
      "1- Soma\n",
      "2- Subtração\n",
      "3- Multiplicação\n",
      "4- Divisão\n",
      "\n"
     ]
    }
   ],
   "source": [
    "print('\\n******************* Calculadora em Python *******************\\n\\n Selecione o número da operação desejada:\\n\\n1- Soma\\n2- Subtração\\n3- Multiplicação\\n4- Divisão\\n')"
   ]
  },
  {
   "cell_type": "code",
   "execution_count": null,
   "id": "254cdb3f",
   "metadata": {},
   "outputs": [],
   "source": [
    "operacao = int(input('Digite sua opção (1/2/3/4): '))"
   ]
  },
  {
   "cell_type": "code",
   "execution_count": null,
   "id": "cf1a503b",
   "metadata": {},
   "outputs": [],
   "source": [
    "x = int(input('Digite o primeiro número: '))"
   ]
  },
  {
   "cell_type": "code",
   "execution_count": null,
   "id": "c22b40dc",
   "metadata": {},
   "outputs": [],
   "source": [
    "y = int(input('Digite o segundo número: '))"
   ]
  },
  {
   "cell_type": "code",
   "execution_count": null,
   "id": "7f4c98fd",
   "metadata": {},
   "outputs": [],
   "source": [
    "if operacao == 1:\n",
    "    z = x + y\n",
    "    print ('{} + {} = {}'.format(x,y,z))\n",
    "elif operacao == 2:\n",
    "    z = x - y\n",
    "    print ('{} - {} = {}'.format(x,y,z))\n",
    "elif operacao == 3:\n",
    "    z = x * y\n",
    "    print ('{} * {} = {}'.format(x,y,z))\n",
    "elif operacao == 4:\n",
    "    z = x / y\n",
    "    print ('{} / {} = {}'.format(x,y,z))\n",
    "else:\n",
    "    print('Operação inválida')\n"
   ]
  }
 ],
 "metadata": {
  "kernelspec": {
   "display_name": "Python 3 (ipykernel)",
   "language": "python",
   "name": "python3"
  },
  "language_info": {
   "codemirror_mode": {
    "name": "ipython",
    "version": 3
   },
   "file_extension": ".py",
   "mimetype": "text/x-python",
   "name": "python",
   "nbconvert_exporter": "python",
   "pygments_lexer": "ipython3",
   "version": "3.9.7"
  }
 },
 "nbformat": 4,
 "nbformat_minor": 5
}
